{
 "cells": [
  {
   "cell_type": "markdown",
   "id": "1b19e4fc",
   "metadata": {},
   "source": [
    "# CA4015 - Assignment 1 – Random Forest and AutoML\n",
    "\n",
    "This assignment was carried out to better understand how machine learning models are trained using *Sci-kit learn* and the relative ease that this same task can be carried out using AutoML, such as the *PyCaret* library. \n",
    "\n",
    "The [Pima Indians diabetes](https://www.kaggle.com/datasets/uciml/pima-indians-diabetes-database?select=diabetes.csv) dataset used for this assignment comes from Kaggle. To summarise the description on Kaggle, the objective of the dataset is to predict whenever a patient has diabetes or not from certain attributes provided in the dataset. All patients are female, over the age of 21 and of Pima Indiant heritage.\n",
    "\n",
    "This assignment will be broken down into the following 4 sections:\n",
    "\n",
    "### Section 1 - Setup and data preprocessing\n",
    "- 1.1 - Importing packages\n",
    "- 1.2 - Reading in the dataset\n",
    "- 1.3 - Exploring the data\n",
    "- 1.4 - Relating back to diabetes causes\n",
    "\n",
    "### Section 2 - Creating a Random Forest\n",
    "- 2.1 - Splitting data\n",
    "- 2.2 - Default Random Forest\n",
    "- 2.3 - Grid Search\n",
    "- 2.4 - Boosting\n",
    "- 2.5 - Results and comparison\n",
    "\n",
    "### Section 3 - Using PyCaret\n",
    "- 3.1 - Running model generation\n",
    "- 3.2 - Results\n",
    "\n",
    "### Section 4 - Conclusion\n",
    "- 4.1 - Manual model creation vs. AutoML methods\n",
    "---"
   ]
  },
  {
   "cell_type": "markdown",
   "id": "d86e46ec",
   "metadata": {},
   "source": [
    "### Section 1.1 - Importing packages\n",
    "\n",
    "*RandomForestClassifier* - The random forest classifier.\n",
    "\n",
    "*AdaBoostClassifier, GradientBoostingClassifier, DecisionTreeClassifier* - Boosting methods and decision tree to create a boosted random forest.\n",
    "\n",
    "*cross_val_score* - Cross validation to test how generalizable a model is.\n",
    "\n",
    "*train_test_split* - Split the data into a train and test set.\n",
    "\n",
    "*GridSearchCV* - Grid search method to find the optimal parameters for a model.\n",
    "\n",
    "*accuracy_score, confusion_matrix, classification_report* - Some functions for evaluation.\n",
    "\n",
    "*pandas* - for dataframes and data wrangling.\n",
    "\n",
    "*pycaret* - AutoML library for finding the ideal model for a machine learning problem.\n"
   ]
  },
  {
   "cell_type": "code",
   "execution_count": 1,
   "id": "7a9a1baf",
   "metadata": {
    "pycharm": {
     "name": "#%%\n"
    }
   },
   "outputs": [],
   "source": [
    "from sklearn.ensemble import RandomForestClassifier, AdaBoostClassifier, GradientBoostingClassifier\n",
    "from sklearn.tree import DecisionTreeClassifier\n",
    "from sklearn.model_selection import cross_val_score, train_test_split, GridSearchCV\n",
    "from sklearn.metrics import accuracy_score, confusion_matrix, classification_report\n",
    "from sklearn.preprocessing import StandardScaler\n",
    "import pandas as pd\n",
    "from pandas.plotting import scatter_matrix\n",
    "from pycaret.classification import *"
   ]
  },
  {
   "cell_type": "markdown",
   "id": "a3e82c3a",
   "metadata": {
    "pycharm": {
     "name": "#%% md\n"
    }
   },
   "source": [
    "### Section 1.2 - Reading in the dataset\n",
    "\n",
    "Using the Pandas read_csv function to load the dataset into a dataframe and inspect the columns and first 5 rows using head()"
   ]
  },
  {
   "cell_type": "code",
   "execution_count": 6,
   "id": "3a18ac54",
   "metadata": {
    "pycharm": {
     "name": "#%%\n"
    }
   },
   "outputs": [
    {
     "name": "stdout",
     "output_type": "stream",
     "text": [
      "   Pregnancies  Glucose  BloodPressure  SkinThickness  Insulin   BMI  \\\n",
      "0            6      148             72             35        0  33.6   \n",
      "1            1       85             66             29        0  26.6   \n",
      "2            8      183             64              0        0  23.3   \n",
      "3            1       89             66             23       94  28.1   \n",
      "4            0      137             40             35      168  43.1   \n",
      "\n",
      "   DiabetesPedigreeFunction  Age  Outcome  \n",
      "0                     0.627   50        1  \n",
      "1                     0.351   31        0  \n",
      "2                     0.672   32        1  \n",
      "3                     0.167   21        0  \n",
      "4                     2.288   33        1  \n",
      "Index(['Pregnancies', 'Glucose', 'BloodPressure', 'SkinThickness', 'Insulin',\n",
      "       'BMI', 'DiabetesPedigreeFunction', 'Age', 'Outcome'],\n",
      "      dtype='object')\n"
     ]
    }
   ],
   "source": [
    "diabetes = pd.read_csv(r\"C:\\Users\\adamt\\notebooks\\ca4015\\diabetes.csv\")# Change to the link to download to use directly\n",
    "columns = diabetes.columns\n",
    "print(diabetes.head())\n",
    "print(columns)"
   ]
  },
  {
   "cell_type": "markdown",
   "id": "17439ef1",
   "metadata": {
    "pycharm": {
     "name": "#%% md\n"
    }
   },
   "source": [
    "### Section 1.3 - Exploring the data\n",
    "\n",
    "- info() - No values have nulls. There is a mix of integers and floats with regard to data types.\n",
    "\n",
    "- describe() - There are definitely some outliers among various attributes such as Insulin and BMI as can be seen in the max row and looking at the distributions. These don't matter for a random forest however, so these don't need to be addressed or normalized.\n",
    "\n"
   ]
  },
  {
   "cell_type": "code",
   "execution_count": 7,
   "id": "ca6228e4",
   "metadata": {},
   "outputs": [
    {
     "name": "stdout",
     "output_type": "stream",
     "text": [
      "<class 'pandas.core.frame.DataFrame'>\n",
      "RangeIndex: 768 entries, 0 to 767\n",
      "Data columns (total 9 columns):\n",
      " #   Column                    Non-Null Count  Dtype  \n",
      "---  ------                    --------------  -----  \n",
      " 0   Pregnancies               768 non-null    int64  \n",
      " 1   Glucose                   768 non-null    int64  \n",
      " 2   BloodPressure             768 non-null    int64  \n",
      " 3   SkinThickness             768 non-null    int64  \n",
      " 4   Insulin                   768 non-null    int64  \n",
      " 5   BMI                       768 non-null    float64\n",
      " 6   DiabetesPedigreeFunction  768 non-null    float64\n",
      " 7   Age                       768 non-null    int64  \n",
      " 8   Outcome                   768 non-null    int64  \n",
      "dtypes: float64(2), int64(7)\n",
      "memory usage: 54.1 KB\n"
     ]
    }
   ],
   "source": [
    "diabetes.info()"
   ]
  },
  {
   "cell_type": "code",
   "execution_count": 3,
   "id": "bde0ad70",
   "metadata": {
    "pycharm": {
     "name": "#%%\n"
    }
   },
   "outputs": [
    {
     "data": {
      "text/html": [
       "<div>\n",
       "<style scoped>\n",
       "    .dataframe tbody tr th:only-of-type {\n",
       "        vertical-align: middle;\n",
       "    }\n",
       "\n",
       "    .dataframe tbody tr th {\n",
       "        vertical-align: top;\n",
       "    }\n",
       "\n",
       "    .dataframe thead th {\n",
       "        text-align: right;\n",
       "    }\n",
       "</style>\n",
       "<table border=\"1\" class=\"dataframe\">\n",
       "  <thead>\n",
       "    <tr style=\"text-align: right;\">\n",
       "      <th></th>\n",
       "      <th>Pregnancies</th>\n",
       "      <th>Glucose</th>\n",
       "      <th>BloodPressure</th>\n",
       "      <th>SkinThickness</th>\n",
       "      <th>Insulin</th>\n",
       "      <th>BMI</th>\n",
       "      <th>DiabetesPedigreeFunction</th>\n",
       "      <th>Age</th>\n",
       "      <th>Outcome</th>\n",
       "    </tr>\n",
       "  </thead>\n",
       "  <tbody>\n",
       "    <tr>\n",
       "      <th>count</th>\n",
       "      <td>768.000000</td>\n",
       "      <td>768.000000</td>\n",
       "      <td>768.000000</td>\n",
       "      <td>768.000000</td>\n",
       "      <td>768.000000</td>\n",
       "      <td>768.000000</td>\n",
       "      <td>768.000000</td>\n",
       "      <td>768.000000</td>\n",
       "      <td>768.000000</td>\n",
       "    </tr>\n",
       "    <tr>\n",
       "      <th>mean</th>\n",
       "      <td>3.845052</td>\n",
       "      <td>120.894531</td>\n",
       "      <td>69.105469</td>\n",
       "      <td>20.536458</td>\n",
       "      <td>79.799479</td>\n",
       "      <td>31.992578</td>\n",
       "      <td>0.471876</td>\n",
       "      <td>33.240885</td>\n",
       "      <td>0.348958</td>\n",
       "    </tr>\n",
       "    <tr>\n",
       "      <th>std</th>\n",
       "      <td>3.369578</td>\n",
       "      <td>31.972618</td>\n",
       "      <td>19.355807</td>\n",
       "      <td>15.952218</td>\n",
       "      <td>115.244002</td>\n",
       "      <td>7.884160</td>\n",
       "      <td>0.331329</td>\n",
       "      <td>11.760232</td>\n",
       "      <td>0.476951</td>\n",
       "    </tr>\n",
       "    <tr>\n",
       "      <th>min</th>\n",
       "      <td>0.000000</td>\n",
       "      <td>0.000000</td>\n",
       "      <td>0.000000</td>\n",
       "      <td>0.000000</td>\n",
       "      <td>0.000000</td>\n",
       "      <td>0.000000</td>\n",
       "      <td>0.078000</td>\n",
       "      <td>21.000000</td>\n",
       "      <td>0.000000</td>\n",
       "    </tr>\n",
       "    <tr>\n",
       "      <th>25%</th>\n",
       "      <td>1.000000</td>\n",
       "      <td>99.000000</td>\n",
       "      <td>62.000000</td>\n",
       "      <td>0.000000</td>\n",
       "      <td>0.000000</td>\n",
       "      <td>27.300000</td>\n",
       "      <td>0.243750</td>\n",
       "      <td>24.000000</td>\n",
       "      <td>0.000000</td>\n",
       "    </tr>\n",
       "    <tr>\n",
       "      <th>50%</th>\n",
       "      <td>3.000000</td>\n",
       "      <td>117.000000</td>\n",
       "      <td>72.000000</td>\n",
       "      <td>23.000000</td>\n",
       "      <td>30.500000</td>\n",
       "      <td>32.000000</td>\n",
       "      <td>0.372500</td>\n",
       "      <td>29.000000</td>\n",
       "      <td>0.000000</td>\n",
       "    </tr>\n",
       "    <tr>\n",
       "      <th>75%</th>\n",
       "      <td>6.000000</td>\n",
       "      <td>140.250000</td>\n",
       "      <td>80.000000</td>\n",
       "      <td>32.000000</td>\n",
       "      <td>127.250000</td>\n",
       "      <td>36.600000</td>\n",
       "      <td>0.626250</td>\n",
       "      <td>41.000000</td>\n",
       "      <td>1.000000</td>\n",
       "    </tr>\n",
       "    <tr>\n",
       "      <th>max</th>\n",
       "      <td>17.000000</td>\n",
       "      <td>199.000000</td>\n",
       "      <td>122.000000</td>\n",
       "      <td>99.000000</td>\n",
       "      <td>846.000000</td>\n",
       "      <td>67.100000</td>\n",
       "      <td>2.420000</td>\n",
       "      <td>81.000000</td>\n",
       "      <td>1.000000</td>\n",
       "    </tr>\n",
       "  </tbody>\n",
       "</table>\n",
       "</div>"
      ],
      "text/plain": [
       "       Pregnancies     Glucose  BloodPressure  SkinThickness     Insulin  \\\n",
       "count   768.000000  768.000000     768.000000     768.000000  768.000000   \n",
       "mean      3.845052  120.894531      69.105469      20.536458   79.799479   \n",
       "std       3.369578   31.972618      19.355807      15.952218  115.244002   \n",
       "min       0.000000    0.000000       0.000000       0.000000    0.000000   \n",
       "25%       1.000000   99.000000      62.000000       0.000000    0.000000   \n",
       "50%       3.000000  117.000000      72.000000      23.000000   30.500000   \n",
       "75%       6.000000  140.250000      80.000000      32.000000  127.250000   \n",
       "max      17.000000  199.000000     122.000000      99.000000  846.000000   \n",
       "\n",
       "              BMI  DiabetesPedigreeFunction         Age     Outcome  \n",
       "count  768.000000                768.000000  768.000000  768.000000  \n",
       "mean    31.992578                  0.471876   33.240885    0.348958  \n",
       "std      7.884160                  0.331329   11.760232    0.476951  \n",
       "min      0.000000                  0.078000   21.000000    0.000000  \n",
       "25%     27.300000                  0.243750   24.000000    0.000000  \n",
       "50%     32.000000                  0.372500   29.000000    0.000000  \n",
       "75%     36.600000                  0.626250   41.000000    1.000000  \n",
       "max     67.100000                  2.420000   81.000000    1.000000  "
      ]
     },
     "execution_count": 3,
     "metadata": {},
     "output_type": "execute_result"
    }
   ],
   "source": [
    "diabetes.describe()"
   ]
  },
  {
   "cell_type": "code",
   "execution_count": 4,
   "id": "1597ec1f",
   "metadata": {
    "pycharm": {
     "name": "#%%\n"
    }
   },
   "outputs": [
    {
     "data": {
      "text/plain": [
       "array([[<AxesSubplot:title={'center':'Pregnancies'}>,\n",
       "        <AxesSubplot:title={'center':'Glucose'}>,\n",
       "        <AxesSubplot:title={'center':'BloodPressure'}>],\n",
       "       [<AxesSubplot:title={'center':'SkinThickness'}>,\n",
       "        <AxesSubplot:title={'center':'Insulin'}>,\n",
       "        <AxesSubplot:title={'center':'BMI'}>],\n",
       "       [<AxesSubplot:title={'center':'DiabetesPedigreeFunction'}>,\n",
       "        <AxesSubplot:title={'center':'Age'}>,\n",
       "        <AxesSubplot:title={'center':'Outcome'}>]], dtype=object)"
      ]
     },
     "execution_count": 4,
     "metadata": {},
     "output_type": "execute_result"
    },
    {
     "data": {
      "image/png": "[encoded data removed]",
      "text/plain": [
       "<Figure size 800x550 with 9 Axes>"
      ]
     },
     "metadata": {},
     "output_type": "display_data"
    }
   ],
   "source": [
    "diabetes.hist()"
   ]
  },
  {
   "cell_type": "markdown",
   "id": "0209032b",
   "metadata": {},
   "source": [
    "### Section 1.4 - Relating back to diabetes causes"
   ]
  },
  {
   "cell_type": "markdown",
   "id": "60b4577d",
   "metadata": {
    "pycharm": {
     "name": "#%% md\n"
    }
   },
   "source": [
    "### Splitting data into a train and test set for manual model creation"
   ]
  },
  {
   "cell_type": "code",
   "execution_count": null,
   "id": "bfb23afe",
   "metadata": {
    "pycharm": {
     "name": "#%%\n"
    }
   },
   "outputs": [],
   "source": [
    "x = diabetes.drop(\"Outcome\", axis=1)\n",
    "y = diabetes.Outcome\n",
    "\n",
    "X_train, X_test, y_train, y_test = train_test_split(x, y, test_size=0.2, random_state=42, stratify=y)"
   ]
  },
  {
   "cell_type": "markdown",
   "id": "7758a4b6",
   "metadata": {
    "pycharm": {
     "name": "#%% md\n"
    }
   },
   "source": [
    "### Training a default decision tree"
   ]
  },
  {
   "cell_type": "code",
   "execution_count": null,
   "id": "6fba05e4",
   "metadata": {
    "pycharm": {
     "name": "#%%\n"
    }
   },
   "outputs": [],
   "source": [
    "clf = RandomForestClassifier()\n",
    "\n",
    "clf.fit(X_train, y_train)\n",
    "y_pred = clf.predict(X_test)\n",
    "print(accuracy_score(y_test, y_pred))\n",
    "print(confusion_matrix(y_test, y_pred))\n",
    "print(classification_report(y_test, y_pred))"
   ]
  },
  {
   "cell_type": "markdown",
   "id": "5798e859",
   "metadata": {
    "pycharm": {
     "name": "#%% md\n"
    }
   },
   "source": [
    "### Understanding which features correlate with diabetes\n",
    "\n",
    "The correlation between the different attributes and the otucome can be seen below.\n",
    "\n",
    "Glucose concentration correlates with diabetes, which makes sense as insulin resistance puts pressure on the pancrease to make more insulin and eventually the demand for insulin can't be met and the glucose levels rise. So we know Glucose is an important feature.\n",
    "\n",
    "BMI is also an important feature as a persons BMI being higher indicates they are closer to being overweight for their height. People who are not physically active or are overweight or even possibly obese can develop an insulin resistance.\n",
    "\n",
    "Age is a factor as the older someone gets typically they become less active and develop an insulin resistance. Their pancreas may become less functional with age.\n",
    "\n",
    "During pregnancy, women can get gestational diabetes due to the changes taking place in their body. This typically goes away after pregancy, but can increase the chance of getting type 2 diabetes later in life.\n",
    "\n",
    "It seems skin thickness and blood pressure are not overly important attributes and can possibly be dropped."
   ]
  },
  {
   "cell_type": "code",
   "execution_count": null,
   "id": "d889cf13",
   "metadata": {
    "pycharm": {
     "name": "#%%\n"
    }
   },
   "outputs": [],
   "source": [
    "diabetes.corr()[\"Outcome\"].sort_values(ascending=False)"
   ]
  },
  {
   "cell_type": "code",
   "execution_count": null,
   "id": "131a9e07",
   "metadata": {
    "pycharm": {
     "name": "#%%\n"
    }
   },
   "outputs": [],
   "source": [
    "scatter_matrix(diabetes[diabetes.columns], figsize=(20,14))"
   ]
  },
  {
   "cell_type": "code",
   "execution_count": null,
   "id": "e8d9fdd5",
   "metadata": {
    "pycharm": {
     "name": "#%%\n"
    }
   },
   "outputs": [],
   "source": [
    "diabetes = diabetes.drop([\"SkinThickness\", \"BloodPressure\"], axis=1)"
   ]
  },
  {
   "cell_type": "code",
   "execution_count": null,
   "id": "140a927e",
   "metadata": {
    "pycharm": {
     "name": "#%%\n"
    }
   },
   "outputs": [],
   "source": [
    "diabetes.columns"
   ]
  },
  {
   "cell_type": "markdown",
   "id": "c5e222cf",
   "metadata": {
    "pycharm": {
     "name": "#%% md\n"
    }
   },
   "source": [
    "### Feature enginerring\n",
    "\n",
    "Testing out some combinations of the important attributes to see if there is any combination that makes an important attribute.\n",
    "\n",
    "These new features are not very useful so we will drop them."
   ]
  },
  {
   "cell_type": "code",
   "execution_count": null,
   "id": "ad2b1332",
   "metadata": {
    "pycharm": {
     "name": "#%%\n"
    }
   },
   "outputs": [],
   "source": [
    "tmp_diabetes = diabetes\n",
    "tmp_diabetes[\"pregnancies_per_year\"] = tmp_diabetes[\"Pregnancies\"]/tmp_diabetes[\"Age\"]\n",
    "tmp_diabetes[\"glucose_per_bmi\"] = tmp_diabetes[\"Glucose\"]/tmp_diabetes[\"BMI\"]\n",
    "tmp_diabetes[\"bmi_per_age\"] = tmp_diabetes[\"BMI\"]/tmp_diabetes[\"Age\"]"
   ]
  },
  {
   "cell_type": "code",
   "execution_count": null,
   "id": "bbd79a41",
   "metadata": {
    "pycharm": {
     "name": "#%%\n"
    }
   },
   "outputs": [],
   "source": [
    "tmp_diabetes.corr()[\"Outcome\"].sort_values(ascending=False)"
   ]
  },
  {
   "cell_type": "markdown",
   "id": "fa15e1bd",
   "metadata": {
    "pycharm": {
     "name": "#%% md\n"
    }
   },
   "source": [
    "### Using grid search to pick optimal parameters (For the parameters I'm checking!)\n",
    "\n",
    "I'm using GridSearch to find the best combination of attributes in the set od parameters I have definited.\n",
    "\n",
    "From the list I provided it seems that the best combination is \n",
    "{'max_depth': 2,\n",
    " 'max_leaf_nodes': 4,\n",
    " 'min_impurity_decrease': 0.0,\n",
    " 'min_samples_leaf': 1,\n",
    " 'min_samples_split': 2,\n",
    " 'n_estimators': 100}"
   ]
  },
  {
   "cell_type": "code",
   "execution_count": null,
   "id": "01f46a8c",
   "metadata": {
    "pycharm": {
     "name": "#%%\n"
    }
   },
   "outputs": [],
   "source": [
    "x = diabetes.drop(\"Outcome\", axis=1)\n",
    "y = diabetes.Outcome\n",
    "\n",
    "scalar = StandardScaler()\n",
    "scaled_values = scalar.fit_transform(x.values)\n",
    "x_scaled = pd.DataFrame(scaled_values, index=x.index, columns=x.columns)\n",
    "\n",
    "X_train, X_test, y_train, y_test = train_test_split(x_scaled, y, test_size=0.2, random_state=42, stratify=y)"
   ]
  },
  {
   "cell_type": "code",
   "execution_count": null,
   "id": "1fe61bc0",
   "metadata": {
    "pycharm": {
     "name": "#%%\n"
    }
   },
   "outputs": [],
   "source": [
    "params = [{\"n_estimators\": [100, 200], \n",
    "           \"max_depth\":[1, 2], \n",
    "           \"min_samples_split\": [2, 5, 10], \n",
    "           \"min_samples_leaf\": [1, 3, 5], \n",
    "           \"max_leaf_nodes\": [2, 4, 6], \n",
    "           \"min_impurity_decrease\": [0.0, 0.2, 0.4]}]\n",
    "clf = RandomForestClassifier(random_state=42)\n",
    "\n",
    "gs_rf = GridSearchCV(clf, params, scoring=\"accuracy\", cv=5)\n",
    "gs_rf.fit(X_train, y_train)"
   ]
  },
  {
   "cell_type": "code",
   "execution_count": null,
   "id": "0d91acb3",
   "metadata": {
    "pycharm": {
     "name": "#%%\n"
    }
   },
   "outputs": [],
   "source": [
    "gs_rf.best_params_"
   ]
  },
  {
   "cell_type": "code",
   "execution_count": null,
   "id": "192211bf",
   "metadata": {
    "pycharm": {
     "name": "#%%\n"
    }
   },
   "outputs": [],
   "source": [
    "gs_rf"
   ]
  },
  {
   "cell_type": "code",
   "execution_count": null,
   "id": "78f7a7c8",
   "metadata": {
    "pycharm": {
     "name": "#%%\n"
    }
   },
   "outputs": [],
   "source": [
    "ada_clf = AdaBoostClassifier(DecisionTreeClassifier(max_depth=2, max_leaf_nodes=4), random_state=42, n_estimators=55, algorithm=\"SAMME.R\", learning_rate=0.1)\n",
    "ada_clf.fit(X_train, y_train)\n",
    "y_pred = ada_clf.predict(X_test)\n",
    "print(accuracy_score(y_test, y_pred))\n",
    "print(confusion_matrix(y_test, y_pred))\n",
    "print(classification_report(y_test, y_pred))"
   ]
  },
  {
   "cell_type": "code",
   "execution_count": null,
   "id": "d7bf6303",
   "metadata": {
    "pycharm": {
     "name": "#%%\n"
    }
   },
   "outputs": [],
   "source": [
    "gbc_clf = GradientBoostingClassifier(learning_rate=0.1, n_estimators=55, criterion='friedman_mse',  max_depth=2, random_state=42, max_leaf_nodes=4)\n",
    "gbc_clf.fit(X_train, y_train)\n",
    "y_pred = gbc_clf.predict(X_test)\n",
    "print(accuracy_score(y_test, y_pred))\n",
    "print(confusion_matrix(y_test, y_pred))\n",
    "print(classification_report(y_test, y_pred))"
   ]
  },
  {
   "cell_type": "markdown",
   "id": "710c5652",
   "metadata": {},
   "source": [
    "### Feature enginerring\n",
    "\n",
    "Testing out some combinations of the important attributes to see if there is any combination that makes an important attribute.\n",
    "\n",
    "These new features are not very useful so we will drop them."
   ]
  },
  {
   "cell_type": "code",
   "execution_count": 51,
   "id": "f6e87b4f",
   "metadata": {},
   "outputs": [],
   "source": [
    "tmp_diabetes = diabetes\n",
    "tmp_diabetes[\"pregnancies_per_year\"] = tmp_diabetes[\"Pregnancies\"]/tmp_diabetes[\"Age\"]\n",
    "tmp_diabetes[\"glucose_per_bmi\"] = tmp_diabetes[\"Glucose\"]/tmp_diabetes[\"BMI\"]\n",
    "tmp_diabetes[\"bmi_per_age\"] = tmp_diabetes[\"BMI\"]/tmp_diabetes[\"Age\"]"
   ]
  },
  {
   "cell_type": "code",
   "execution_count": 52,
   "id": "17a6e47f",
   "metadata": {},
   "outputs": [
    {
     "data": {
      "text/plain": [
       "Outcome                     1.000000\n",
       "Glucose                     0.466581\n",
       "BMI                         0.292695\n",
       "Age                         0.238356\n",
       "Pregnancies                 0.221898\n",
       "DiabetesPedigreeFunction    0.173844\n",
       "glucose_per_bmi             0.170972\n",
       "pregnancies_per_year        0.163744\n",
       "Insulin                     0.130548\n",
       "SkinThickness               0.074752\n",
       "BloodPressure               0.065068\n",
       "bmi_per_age                -0.029840\n",
       "Name: Outcome, dtype: float64"
      ]
     },
     "execution_count": 52,
     "metadata": {},
     "output_type": "execute_result"
    }
   ],
   "source": [
    "tmp_diabetes.corr()[\"Outcome\"].sort_values(ascending=False)"
   ]
  },
  {
   "cell_type": "markdown",
   "id": "15f404c5",
   "metadata": {},
   "source": [
    "### Using grid search to pick optimal parameters (For the parameters I'm checking!)\n",
    "\n",
    "I'm using GridSearch to find the best combination of attributes in the set od parameters I have definited.\n",
    "\n",
    "From the list I provided it seems that the best combination is \n",
    "{'max_depth': 2,\n",
    " 'max_leaf_nodes': 4,\n",
    " 'min_impurity_decrease': 0.0,\n",
    " 'min_samples_leaf': 1,\n",
    " 'min_samples_split': 2,\n",
    " 'n_estimators': 100}"
   ]
  },
  {
   "cell_type": "code",
   "execution_count": 165,
   "id": "d0ebc32f",
   "metadata": {},
   "outputs": [],
   "source": [
    "x = diabetes.drop(\"Outcome\", axis=1)\n",
    "y = diabetes.Outcome\n",
    "\n",
    "scalar = StandardScaler()\n",
    "scaled_values = scalar.fit_transform(x.values)\n",
    "x_scaled = pd.DataFrame(scaled_values, index=x.index, columns=x.columns)\n",
    "\n",
    "X_train, X_test, y_train, y_test = train_test_split(x_scaled, y, test_size=0.2, random_state=42, stratify=y)"
   ]
  },
  {
   "cell_type": "code",
   "execution_count": 166,
   "id": "089f2903",
   "metadata": {},
   "outputs": [
    {
     "data": {
      "text/plain": [
       "GridSearchCV(cv=5, error_score=nan,\n",
       "             estimator=RandomForestClassifier(bootstrap=True, ccp_alpha=0.0,\n",
       "                                              class_weight=None,\n",
       "                                              criterion='gini', max_depth=None,\n",
       "                                              max_features='auto',\n",
       "                                              max_leaf_nodes=None,\n",
       "                                              max_samples=None,\n",
       "                                              min_impurity_decrease=0.0,\n",
       "                                              min_impurity_split=None,\n",
       "                                              min_samples_leaf=1,\n",
       "                                              min_samples_split=2,\n",
       "                                              min_weight_fraction_leaf=0.0,\n",
       "                                              n_estimators=100, n_jobs=None,\n",
       "                                              oob_score=False, random_state=42,\n",
       "                                              verbose=0, warm_start=False),\n",
       "             iid='deprecated', n_jobs=None,\n",
       "             param_grid=[{'max_depth': [1, 2], 'max_leaf_nodes': [2, 4, 6],\n",
       "                          'min_impurity_decrease': [0.0, 0.2, 0.4],\n",
       "                          'min_samples_leaf': [1, 3, 5],\n",
       "                          'min_samples_split': [2, 5, 10],\n",
       "                          'n_estimators': [100, 200]}],\n",
       "             pre_dispatch='2*n_jobs', refit=True, return_train_score=False,\n",
       "             scoring='accuracy', verbose=0)"
      ]
     },
     "execution_count": 166,
     "metadata": {},
     "output_type": "execute_result"
    }
   ],
   "source": [
    "params = [{\"n_estimators\": [100, 200], \n",
    "           \"max_depth\":[1, 2], \n",
    "           \"min_samples_split\": [2, 5, 10], \n",
    "           \"min_samples_leaf\": [1, 3, 5], \n",
    "           \"max_leaf_nodes\": [2, 4, 6], \n",
    "           \"min_impurity_decrease\": [0.0, 0.2, 0.4]}]\n",
    "clf = RandomForestClassifier(random_state=42)\n",
    "\n",
    "gs_rf = GridSearchCV(clf, params, scoring=\"accuracy\", cv=5)\n",
    "gs_rf.fit(X_train, y_train)"
   ]
  },
  {
   "cell_type": "code",
   "execution_count": 167,
   "id": "5fc3def4",
   "metadata": {},
   "outputs": [
    {
     "data": {
      "text/plain": [
       "{'max_depth': 2,\n",
       " 'max_leaf_nodes': 4,\n",
       " 'min_impurity_decrease': 0.0,\n",
       " 'min_samples_leaf': 1,\n",
       " 'min_samples_split': 2,\n",
       " 'n_estimators': 200}"
      ]
     },
     "execution_count": 167,
     "metadata": {},
     "output_type": "execute_result"
    }
   ],
   "source": [
    "gs_rf.best_params_"
   ]
  },
  {
   "cell_type": "code",
   "execution_count": null,
   "id": "661758b5",
   "metadata": {},
   "outputs": [],
   "source": [
    "gs_rf"
   ]
  },
  {
   "cell_type": "code",
   "execution_count": 177,
   "id": "03b17e7c",
   "metadata": {
    "pycharm": {
     "name": "#%%\n"
    }
   },
   "outputs": [
    {
     "name": "stdout",
     "output_type": "stream",
     "text": [
      "0.7597402597402597\n",
      "[[86 14]\n",
      " [23 31]]\n",
      "              precision    recall  f1-score   support\n",
      "\n",
      "           0       0.79      0.86      0.82       100\n",
      "           1       0.69      0.57      0.63        54\n",
      "\n",
      "    accuracy                           0.76       154\n",
      "   macro avg       0.74      0.72      0.72       154\n",
      "weighted avg       0.75      0.76      0.75       154\n",
      "\n"
     ]
    }
   ],
   "source": [
    "ada_clf = AdaBoostClassifier(DecisionTreeClassifier(max_depth=2, max_leaf_nodes=4), random_state=42, n_estimators=55, algorithm=\"SAMME.R\", learning_rate=0.1)\n",
    "ada_clf.fit(X_train, y_train)\n",
    "y_pred = ada_clf.predict(X_test)\n",
    "print(accuracy_score(y_test, y_pred))\n",
    "print(confusion_matrix(y_test, y_pred))\n",
    "print(classification_report(y_test, y_pred))"
   ]
  },
  {
   "cell_type": "code",
   "execution_count": 180,
   "id": "f69a9164",
   "metadata": {
    "pycharm": {
     "name": "#%%\n"
    }
   },
   "outputs": [
    {
     "name": "stdout",
     "output_type": "stream",
     "text": [
      "0.7337662337662337\n",
      "[[83 17]\n",
      " [24 30]]\n",
      "              precision    recall  f1-score   support\n",
      "\n",
      "           0       0.78      0.83      0.80       100\n",
      "           1       0.64      0.56      0.59        54\n",
      "\n",
      "    accuracy                           0.73       154\n",
      "   macro avg       0.71      0.69      0.70       154\n",
      "weighted avg       0.73      0.73      0.73       154\n",
      "\n"
     ]
    }
   ],
   "source": [
    "gbc_clf = GradientBoostingClassifier(learning_rate=0.1, n_estimators=55, criterion='friedman_mse',  max_depth=2, random_state=42, max_leaf_nodes=4)\n",
    "gbc_clf.fit(X_train, y_train)\n",
    "y_pred = gbc_clf.predict(X_test)\n",
    "print(accuracy_score(y_test, y_pred))\n",
    "print(confusion_matrix(y_test, y_pred))\n",
    "print(classification_report(y_test, y_pred))"
   ]
  },
  {
   "cell_type": "code",
   "execution_count": 9,
   "id": "66d5c723",
   "metadata": {
    "pycharm": {
     "name": "#%%\n"
    }
   },
   "outputs": [
    {
     "name": "stdout",
     "output_type": "stream",
     "text": [
      "[0.74025974 0.74675325 0.74675325 0.75816993 0.75816993]\n"
     ]
    }
   ],
   "source": [
    "scores = cross_val_score(clf, x, y, cv=5)\n",
    "print(scores)"
   ]
  },
  {
   "cell_type": "code",
   "execution_count": 10,
   "id": "398de238",
   "metadata": {
    "pycharm": {
     "name": "#%%\n"
    }
   },
   "outputs": [
    {
     "name": "stdout",
     "output_type": "stream",
     "text": [
      "[0.70779221 0.67532468 0.72077922 0.79738562 0.69934641]\n"
     ]
    }
   ],
   "source": [
    "scores = cross_val_score(ada_clf, x, y, cv=5)\n",
    "print(scores)"
   ]
  },
  {
   "cell_type": "code",
   "execution_count": 13,
   "id": "88ccd870",
   "metadata": {
    "pycharm": {
     "name": "#%%\n"
    }
   },
   "outputs": [
    {
     "data": {
      "text/html": [
       "<style type=\"text/css\">\n",
       "#T_fcb1f_row44_col1 {\n",
       "  background-color: lightgreen;\n",
       "}\n",
       "</style>\n",
       "<table id=\"T_fcb1f\">\n",
       "  <thead>\n",
       "    <tr>\n",
       "      <th class=\"blank level0\" >&nbsp;</th>\n",
       "      <th id=\"T_fcb1f_level0_col0\" class=\"col_heading level0 col0\" >Description</th>\n",
       "      <th id=\"T_fcb1f_level0_col1\" class=\"col_heading level0 col1\" >Value</th>\n",
       "    </tr>\n",
       "  </thead>\n",
       "  <tbody>\n",
       "    <tr>\n",
       "      <th id=\"T_fcb1f_level0_row0\" class=\"row_heading level0 row0\" >0</th>\n",
       "      <td id=\"T_fcb1f_row0_col0\" class=\"data row0 col0\" >session_id</td>\n",
       "      <td id=\"T_fcb1f_row0_col1\" class=\"data row0 col1\" >5919</td>\n",
       "    </tr>\n",
       "    <tr>\n",
       "      <th id=\"T_fcb1f_level0_row1\" class=\"row_heading level0 row1\" >1</th>\n",
       "      <td id=\"T_fcb1f_row1_col0\" class=\"data row1 col0\" >Target</td>\n",
       "      <td id=\"T_fcb1f_row1_col1\" class=\"data row1 col1\" >Outcome</td>\n",
       "    </tr>\n",
       "    <tr>\n",
       "      <th id=\"T_fcb1f_level0_row2\" class=\"row_heading level0 row2\" >2</th>\n",
       "      <td id=\"T_fcb1f_row2_col0\" class=\"data row2 col0\" >Target Type</td>\n",
       "      <td id=\"T_fcb1f_row2_col1\" class=\"data row2 col1\" >Binary</td>\n",
       "    </tr>\n",
       "    <tr>\n",
       "      <th id=\"T_fcb1f_level0_row3\" class=\"row_heading level0 row3\" >3</th>\n",
       "      <td id=\"T_fcb1f_row3_col0\" class=\"data row3 col0\" >Label Encoded</td>\n",
       "      <td id=\"T_fcb1f_row3_col1\" class=\"data row3 col1\" >None</td>\n",
       "    </tr>\n",
       "    <tr>\n",
       "      <th id=\"T_fcb1f_level0_row4\" class=\"row_heading level0 row4\" >4</th>\n",
       "      <td id=\"T_fcb1f_row4_col0\" class=\"data row4 col0\" >Original Data</td>\n",
       "      <td id=\"T_fcb1f_row4_col1\" class=\"data row4 col1\" >(768, 9)</td>\n",
       "    </tr>\n",
       "    <tr>\n",
       "      <th id=\"T_fcb1f_level0_row5\" class=\"row_heading level0 row5\" >5</th>\n",
       "      <td id=\"T_fcb1f_row5_col0\" class=\"data row5 col0\" >Missing Values</td>\n",
       "      <td id=\"T_fcb1f_row5_col1\" class=\"data row5 col1\" >False</td>\n",
       "    </tr>\n",
       "    <tr>\n",
       "      <th id=\"T_fcb1f_level0_row6\" class=\"row_heading level0 row6\" >6</th>\n",
       "      <td id=\"T_fcb1f_row6_col0\" class=\"data row6 col0\" >Numeric Features</td>\n",
       "      <td id=\"T_fcb1f_row6_col1\" class=\"data row6 col1\" >7</td>\n",
       "    </tr>\n",
       "    <tr>\n",
       "      <th id=\"T_fcb1f_level0_row7\" class=\"row_heading level0 row7\" >7</th>\n",
       "      <td id=\"T_fcb1f_row7_col0\" class=\"data row7 col0\" >Categorical Features</td>\n",
       "      <td id=\"T_fcb1f_row7_col1\" class=\"data row7 col1\" >1</td>\n",
       "    </tr>\n",
       "    <tr>\n",
       "      <th id=\"T_fcb1f_level0_row8\" class=\"row_heading level0 row8\" >8</th>\n",
       "      <td id=\"T_fcb1f_row8_col0\" class=\"data row8 col0\" >Ordinal Features</td>\n",
       "      <td id=\"T_fcb1f_row8_col1\" class=\"data row8 col1\" >False</td>\n",
       "    </tr>\n",
       "    <tr>\n",
       "      <th id=\"T_fcb1f_level0_row9\" class=\"row_heading level0 row9\" >9</th>\n",
       "      <td id=\"T_fcb1f_row9_col0\" class=\"data row9 col0\" >High Cardinality Features</td>\n",
       "      <td id=\"T_fcb1f_row9_col1\" class=\"data row9 col1\" >False</td>\n",
       "    </tr>\n",
       "    <tr>\n",
       "      <th id=\"T_fcb1f_level0_row10\" class=\"row_heading level0 row10\" >10</th>\n",
       "      <td id=\"T_fcb1f_row10_col0\" class=\"data row10 col0\" >High Cardinality Method</td>\n",
       "      <td id=\"T_fcb1f_row10_col1\" class=\"data row10 col1\" >None</td>\n",
       "    </tr>\n",
       "    <tr>\n",
       "      <th id=\"T_fcb1f_level0_row11\" class=\"row_heading level0 row11\" >11</th>\n",
       "      <td id=\"T_fcb1f_row11_col0\" class=\"data row11 col0\" >Transformed Train Set</td>\n",
       "      <td id=\"T_fcb1f_row11_col1\" class=\"data row11 col1\" >(537, 23)</td>\n",
       "    </tr>\n",
       "    <tr>\n",
       "      <th id=\"T_fcb1f_level0_row12\" class=\"row_heading level0 row12\" >12</th>\n",
       "      <td id=\"T_fcb1f_row12_col0\" class=\"data row12 col0\" >Transformed Test Set</td>\n",
       "      <td id=\"T_fcb1f_row12_col1\" class=\"data row12 col1\" >(231, 23)</td>\n",
       "    </tr>\n",
       "    <tr>\n",
       "      <th id=\"T_fcb1f_level0_row13\" class=\"row_heading level0 row13\" >13</th>\n",
       "      <td id=\"T_fcb1f_row13_col0\" class=\"data row13 col0\" >Shuffle Train-Test</td>\n",
       "      <td id=\"T_fcb1f_row13_col1\" class=\"data row13 col1\" >True</td>\n",
       "    </tr>\n",
       "    <tr>\n",
       "      <th id=\"T_fcb1f_level0_row14\" class=\"row_heading level0 row14\" >14</th>\n",
       "      <td id=\"T_fcb1f_row14_col0\" class=\"data row14 col0\" >Stratify Train-Test</td>\n",
       "      <td id=\"T_fcb1f_row14_col1\" class=\"data row14 col1\" >False</td>\n",
       "    </tr>\n",
       "    <tr>\n",
       "      <th id=\"T_fcb1f_level0_row15\" class=\"row_heading level0 row15\" >15</th>\n",
       "      <td id=\"T_fcb1f_row15_col0\" class=\"data row15 col0\" >Fold Generator</td>\n",
       "      <td id=\"T_fcb1f_row15_col1\" class=\"data row15 col1\" >StratifiedKFold</td>\n",
       "    </tr>\n",
       "    <tr>\n",
       "      <th id=\"T_fcb1f_level0_row16\" class=\"row_heading level0 row16\" >16</th>\n",
       "      <td id=\"T_fcb1f_row16_col0\" class=\"data row16 col0\" >Fold Number</td>\n",
       "      <td id=\"T_fcb1f_row16_col1\" class=\"data row16 col1\" >10</td>\n",
       "    </tr>\n",
       "    <tr>\n",
       "      <th id=\"T_fcb1f_level0_row17\" class=\"row_heading level0 row17\" >17</th>\n",
       "      <td id=\"T_fcb1f_row17_col0\" class=\"data row17 col0\" >CPU Jobs</td>\n",
       "      <td id=\"T_fcb1f_row17_col1\" class=\"data row17 col1\" >-1</td>\n",
       "    </tr>\n",
       "    <tr>\n",
       "      <th id=\"T_fcb1f_level0_row18\" class=\"row_heading level0 row18\" >18</th>\n",
       "      <td id=\"T_fcb1f_row18_col0\" class=\"data row18 col0\" >Use GPU</td>\n",
       "      <td id=\"T_fcb1f_row18_col1\" class=\"data row18 col1\" >False</td>\n",
       "    </tr>\n",
       "    <tr>\n",
       "      <th id=\"T_fcb1f_level0_row19\" class=\"row_heading level0 row19\" >19</th>\n",
       "      <td id=\"T_fcb1f_row19_col0\" class=\"data row19 col0\" >Log Experiment</td>\n",
       "      <td id=\"T_fcb1f_row19_col1\" class=\"data row19 col1\" >False</td>\n",
       "    </tr>\n",
       "    <tr>\n",
       "      <th id=\"T_fcb1f_level0_row20\" class=\"row_heading level0 row20\" >20</th>\n",
       "      <td id=\"T_fcb1f_row20_col0\" class=\"data row20 col0\" >Experiment Name</td>\n",
       "      <td id=\"T_fcb1f_row20_col1\" class=\"data row20 col1\" >clf-default-name</td>\n",
       "    </tr>\n",
       "    <tr>\n",
       "      <th id=\"T_fcb1f_level0_row21\" class=\"row_heading level0 row21\" >21</th>\n",
       "      <td id=\"T_fcb1f_row21_col0\" class=\"data row21 col0\" >USI</td>\n",
       "      <td id=\"T_fcb1f_row21_col1\" class=\"data row21 col1\" >2a86</td>\n",
       "    </tr>\n",
       "    <tr>\n",
       "      <th id=\"T_fcb1f_level0_row22\" class=\"row_heading level0 row22\" >22</th>\n",
       "      <td id=\"T_fcb1f_row22_col0\" class=\"data row22 col0\" >Imputation Type</td>\n",
       "      <td id=\"T_fcb1f_row22_col1\" class=\"data row22 col1\" >simple</td>\n",
       "    </tr>\n",
       "    <tr>\n",
       "      <th id=\"T_fcb1f_level0_row23\" class=\"row_heading level0 row23\" >23</th>\n",
       "      <td id=\"T_fcb1f_row23_col0\" class=\"data row23 col0\" >Iterative Imputation Iteration</td>\n",
       "      <td id=\"T_fcb1f_row23_col1\" class=\"data row23 col1\" >None</td>\n",
       "    </tr>\n",
       "    <tr>\n",
       "      <th id=\"T_fcb1f_level0_row24\" class=\"row_heading level0 row24\" >24</th>\n",
       "      <td id=\"T_fcb1f_row24_col0\" class=\"data row24 col0\" >Numeric Imputer</td>\n",
       "      <td id=\"T_fcb1f_row24_col1\" class=\"data row24 col1\" >mean</td>\n",
       "    </tr>\n",
       "    <tr>\n",
       "      <th id=\"T_fcb1f_level0_row25\" class=\"row_heading level0 row25\" >25</th>\n",
       "      <td id=\"T_fcb1f_row25_col0\" class=\"data row25 col0\" >Iterative Imputation Numeric Model</td>\n",
       "      <td id=\"T_fcb1f_row25_col1\" class=\"data row25 col1\" >None</td>\n",
       "    </tr>\n",
       "    <tr>\n",
       "      <th id=\"T_fcb1f_level0_row26\" class=\"row_heading level0 row26\" >26</th>\n",
       "      <td id=\"T_fcb1f_row26_col0\" class=\"data row26 col0\" >Categorical Imputer</td>\n",
       "      <td id=\"T_fcb1f_row26_col1\" class=\"data row26 col1\" >constant</td>\n",
       "    </tr>\n",
       "    <tr>\n",
       "      <th id=\"T_fcb1f_level0_row27\" class=\"row_heading level0 row27\" >27</th>\n",
       "      <td id=\"T_fcb1f_row27_col0\" class=\"data row27 col0\" >Iterative Imputation Categorical Model</td>\n",
       "      <td id=\"T_fcb1f_row27_col1\" class=\"data row27 col1\" >None</td>\n",
       "    </tr>\n",
       "    <tr>\n",
       "      <th id=\"T_fcb1f_level0_row28\" class=\"row_heading level0 row28\" >28</th>\n",
       "      <td id=\"T_fcb1f_row28_col0\" class=\"data row28 col0\" >Unknown Categoricals Handling</td>\n",
       "      <td id=\"T_fcb1f_row28_col1\" class=\"data row28 col1\" >least_frequent</td>\n",
       "    </tr>\n",
       "    <tr>\n",
       "      <th id=\"T_fcb1f_level0_row29\" class=\"row_heading level0 row29\" >29</th>\n",
       "      <td id=\"T_fcb1f_row29_col0\" class=\"data row29 col0\" >Normalize</td>\n",
       "      <td id=\"T_fcb1f_row29_col1\" class=\"data row29 col1\" >False</td>\n",
       "    </tr>\n",
       "    <tr>\n",
       "      <th id=\"T_fcb1f_level0_row30\" class=\"row_heading level0 row30\" >30</th>\n",
       "      <td id=\"T_fcb1f_row30_col0\" class=\"data row30 col0\" >Normalize Method</td>\n",
       "      <td id=\"T_fcb1f_row30_col1\" class=\"data row30 col1\" >None</td>\n",
       "    </tr>\n",
       "    <tr>\n",
       "      <th id=\"T_fcb1f_level0_row31\" class=\"row_heading level0 row31\" >31</th>\n",
       "      <td id=\"T_fcb1f_row31_col0\" class=\"data row31 col0\" >Transformation</td>\n",
       "      <td id=\"T_fcb1f_row31_col1\" class=\"data row31 col1\" >False</td>\n",
       "    </tr>\n",
       "    <tr>\n",
       "      <th id=\"T_fcb1f_level0_row32\" class=\"row_heading level0 row32\" >32</th>\n",
       "      <td id=\"T_fcb1f_row32_col0\" class=\"data row32 col0\" >Transformation Method</td>\n",
       "      <td id=\"T_fcb1f_row32_col1\" class=\"data row32 col1\" >None</td>\n",
       "    </tr>\n",
       "    <tr>\n",
       "      <th id=\"T_fcb1f_level0_row33\" class=\"row_heading level0 row33\" >33</th>\n",
       "      <td id=\"T_fcb1f_row33_col0\" class=\"data row33 col0\" >PCA</td>\n",
       "      <td id=\"T_fcb1f_row33_col1\" class=\"data row33 col1\" >False</td>\n",
       "    </tr>\n",
       "    <tr>\n",
       "      <th id=\"T_fcb1f_level0_row34\" class=\"row_heading level0 row34\" >34</th>\n",
       "      <td id=\"T_fcb1f_row34_col0\" class=\"data row34 col0\" >PCA Method</td>\n",
       "      <td id=\"T_fcb1f_row34_col1\" class=\"data row34 col1\" >None</td>\n",
       "    </tr>\n",
       "    <tr>\n",
       "      <th id=\"T_fcb1f_level0_row35\" class=\"row_heading level0 row35\" >35</th>\n",
       "      <td id=\"T_fcb1f_row35_col0\" class=\"data row35 col0\" >PCA Components</td>\n",
       "      <td id=\"T_fcb1f_row35_col1\" class=\"data row35 col1\" >None</td>\n",
       "    </tr>\n",
       "    <tr>\n",
       "      <th id=\"T_fcb1f_level0_row36\" class=\"row_heading level0 row36\" >36</th>\n",
       "      <td id=\"T_fcb1f_row36_col0\" class=\"data row36 col0\" >Ignore Low Variance</td>\n",
       "      <td id=\"T_fcb1f_row36_col1\" class=\"data row36 col1\" >False</td>\n",
       "    </tr>\n",
       "    <tr>\n",
       "      <th id=\"T_fcb1f_level0_row37\" class=\"row_heading level0 row37\" >37</th>\n",
       "      <td id=\"T_fcb1f_row37_col0\" class=\"data row37 col0\" >Combine Rare Levels</td>\n",
       "      <td id=\"T_fcb1f_row37_col1\" class=\"data row37 col1\" >False</td>\n",
       "    </tr>\n",
       "    <tr>\n",
       "      <th id=\"T_fcb1f_level0_row38\" class=\"row_heading level0 row38\" >38</th>\n",
       "      <td id=\"T_fcb1f_row38_col0\" class=\"data row38 col0\" >Rare Level Threshold</td>\n",
       "      <td id=\"T_fcb1f_row38_col1\" class=\"data row38 col1\" >None</td>\n",
       "    </tr>\n",
       "    <tr>\n",
       "      <th id=\"T_fcb1f_level0_row39\" class=\"row_heading level0 row39\" >39</th>\n",
       "      <td id=\"T_fcb1f_row39_col0\" class=\"data row39 col0\" >Numeric Binning</td>\n",
       "      <td id=\"T_fcb1f_row39_col1\" class=\"data row39 col1\" >False</td>\n",
       "    </tr>\n",
       "    <tr>\n",
       "      <th id=\"T_fcb1f_level0_row40\" class=\"row_heading level0 row40\" >40</th>\n",
       "      <td id=\"T_fcb1f_row40_col0\" class=\"data row40 col0\" >Remove Outliers</td>\n",
       "      <td id=\"T_fcb1f_row40_col1\" class=\"data row40 col1\" >False</td>\n",
       "    </tr>\n",
       "    <tr>\n",
       "      <th id=\"T_fcb1f_level0_row41\" class=\"row_heading level0 row41\" >41</th>\n",
       "      <td id=\"T_fcb1f_row41_col0\" class=\"data row41 col0\" >Outliers Threshold</td>\n",
       "      <td id=\"T_fcb1f_row41_col1\" class=\"data row41 col1\" >None</td>\n",
       "    </tr>\n",
       "    <tr>\n",
       "      <th id=\"T_fcb1f_level0_row42\" class=\"row_heading level0 row42\" >42</th>\n",
       "      <td id=\"T_fcb1f_row42_col0\" class=\"data row42 col0\" >Remove Multicollinearity</td>\n",
       "      <td id=\"T_fcb1f_row42_col1\" class=\"data row42 col1\" >False</td>\n",
       "    </tr>\n",
       "    <tr>\n",
       "      <th id=\"T_fcb1f_level0_row43\" class=\"row_heading level0 row43\" >43</th>\n",
       "      <td id=\"T_fcb1f_row43_col0\" class=\"data row43 col0\" >Multicollinearity Threshold</td>\n",
       "      <td id=\"T_fcb1f_row43_col1\" class=\"data row43 col1\" >None</td>\n",
       "    </tr>\n",
       "    <tr>\n",
       "      <th id=\"T_fcb1f_level0_row44\" class=\"row_heading level0 row44\" >44</th>\n",
       "      <td id=\"T_fcb1f_row44_col0\" class=\"data row44 col0\" >Remove Perfect Collinearity</td>\n",
       "      <td id=\"T_fcb1f_row44_col1\" class=\"data row44 col1\" >True</td>\n",
       "    </tr>\n",
       "    <tr>\n",
       "      <th id=\"T_fcb1f_level0_row45\" class=\"row_heading level0 row45\" >45</th>\n",
       "      <td id=\"T_fcb1f_row45_col0\" class=\"data row45 col0\" >Clustering</td>\n",
       "      <td id=\"T_fcb1f_row45_col1\" class=\"data row45 col1\" >False</td>\n",
       "    </tr>\n",
       "    <tr>\n",
       "      <th id=\"T_fcb1f_level0_row46\" class=\"row_heading level0 row46\" >46</th>\n",
       "      <td id=\"T_fcb1f_row46_col0\" class=\"data row46 col0\" >Clustering Iteration</td>\n",
       "      <td id=\"T_fcb1f_row46_col1\" class=\"data row46 col1\" >None</td>\n",
       "    </tr>\n",
       "    <tr>\n",
       "      <th id=\"T_fcb1f_level0_row47\" class=\"row_heading level0 row47\" >47</th>\n",
       "      <td id=\"T_fcb1f_row47_col0\" class=\"data row47 col0\" >Polynomial Features</td>\n",
       "      <td id=\"T_fcb1f_row47_col1\" class=\"data row47 col1\" >False</td>\n",
       "    </tr>\n",
       "    <tr>\n",
       "      <th id=\"T_fcb1f_level0_row48\" class=\"row_heading level0 row48\" >48</th>\n",
       "      <td id=\"T_fcb1f_row48_col0\" class=\"data row48 col0\" >Polynomial Degree</td>\n",
       "      <td id=\"T_fcb1f_row48_col1\" class=\"data row48 col1\" >None</td>\n",
       "    </tr>\n",
       "    <tr>\n",
       "      <th id=\"T_fcb1f_level0_row49\" class=\"row_heading level0 row49\" >49</th>\n",
       "      <td id=\"T_fcb1f_row49_col0\" class=\"data row49 col0\" >Trignometry Features</td>\n",
       "      <td id=\"T_fcb1f_row49_col1\" class=\"data row49 col1\" >False</td>\n",
       "    </tr>\n",
       "    <tr>\n",
       "      <th id=\"T_fcb1f_level0_row50\" class=\"row_heading level0 row50\" >50</th>\n",
       "      <td id=\"T_fcb1f_row50_col0\" class=\"data row50 col0\" >Polynomial Threshold</td>\n",
       "      <td id=\"T_fcb1f_row50_col1\" class=\"data row50 col1\" >None</td>\n",
       "    </tr>\n",
       "    <tr>\n",
       "      <th id=\"T_fcb1f_level0_row51\" class=\"row_heading level0 row51\" >51</th>\n",
       "      <td id=\"T_fcb1f_row51_col0\" class=\"data row51 col0\" >Group Features</td>\n",
       "      <td id=\"T_fcb1f_row51_col1\" class=\"data row51 col1\" >False</td>\n",
       "    </tr>\n",
       "    <tr>\n",
       "      <th id=\"T_fcb1f_level0_row52\" class=\"row_heading level0 row52\" >52</th>\n",
       "      <td id=\"T_fcb1f_row52_col0\" class=\"data row52 col0\" >Feature Selection</td>\n",
       "      <td id=\"T_fcb1f_row52_col1\" class=\"data row52 col1\" >False</td>\n",
       "    </tr>\n",
       "    <tr>\n",
       "      <th id=\"T_fcb1f_level0_row53\" class=\"row_heading level0 row53\" >53</th>\n",
       "      <td id=\"T_fcb1f_row53_col0\" class=\"data row53 col0\" >Feature Selection Method</td>\n",
       "      <td id=\"T_fcb1f_row53_col1\" class=\"data row53 col1\" >classic</td>\n",
       "    </tr>\n",
       "    <tr>\n",
       "      <th id=\"T_fcb1f_level0_row54\" class=\"row_heading level0 row54\" >54</th>\n",
       "      <td id=\"T_fcb1f_row54_col0\" class=\"data row54 col0\" >Features Selection Threshold</td>\n",
       "      <td id=\"T_fcb1f_row54_col1\" class=\"data row54 col1\" >None</td>\n",
       "    </tr>\n",
       "    <tr>\n",
       "      <th id=\"T_fcb1f_level0_row55\" class=\"row_heading level0 row55\" >55</th>\n",
       "      <td id=\"T_fcb1f_row55_col0\" class=\"data row55 col0\" >Feature Interaction</td>\n",
       "      <td id=\"T_fcb1f_row55_col1\" class=\"data row55 col1\" >False</td>\n",
       "    </tr>\n",
       "    <tr>\n",
       "      <th id=\"T_fcb1f_level0_row56\" class=\"row_heading level0 row56\" >56</th>\n",
       "      <td id=\"T_fcb1f_row56_col0\" class=\"data row56 col0\" >Feature Ratio</td>\n",
       "      <td id=\"T_fcb1f_row56_col1\" class=\"data row56 col1\" >False</td>\n",
       "    </tr>\n",
       "    <tr>\n",
       "      <th id=\"T_fcb1f_level0_row57\" class=\"row_heading level0 row57\" >57</th>\n",
       "      <td id=\"T_fcb1f_row57_col0\" class=\"data row57 col0\" >Interaction Threshold</td>\n",
       "      <td id=\"T_fcb1f_row57_col1\" class=\"data row57 col1\" >None</td>\n",
       "    </tr>\n",
       "    <tr>\n",
       "      <th id=\"T_fcb1f_level0_row58\" class=\"row_heading level0 row58\" >58</th>\n",
       "      <td id=\"T_fcb1f_row58_col0\" class=\"data row58 col0\" >Fix Imbalance</td>\n",
       "      <td id=\"T_fcb1f_row58_col1\" class=\"data row58 col1\" >False</td>\n",
       "    </tr>\n",
       "    <tr>\n",
       "      <th id=\"T_fcb1f_level0_row59\" class=\"row_heading level0 row59\" >59</th>\n",
       "      <td id=\"T_fcb1f_row59_col0\" class=\"data row59 col0\" >Fix Imbalance Method</td>\n",
       "      <td id=\"T_fcb1f_row59_col1\" class=\"data row59 col1\" >SMOTE</td>\n",
       "    </tr>\n",
       "  </tbody>\n",
       "</table>\n"
      ],
      "text/plain": [
       "<pandas.io.formats.style.Styler at 0x24272b50610>"
      ]
     },
     "metadata": {},
     "output_type": "display_data"
    }
   ],
   "source": [
    "exp_name = setup(diabetes, target=\"Outcome\")"
   ]
  },
  {
   "cell_type": "code",
   "execution_count": 14,
   "id": "a5ea02df",
   "metadata": {
    "pycharm": {
     "name": "#%%\n"
    }
   },
   "outputs": [
    {
     "data": {
      "text/html": [
       "<style type=\"text/css\">\n",
       "#T_90f92 th {\n",
       "  text-align: left;\n",
       "}\n",
       "#T_90f92_row0_col0, #T_90f92_row0_col2, #T_90f92_row0_col3, #T_90f92_row0_col4, #T_90f92_row0_col5, #T_90f92_row0_col7, #T_90f92_row1_col0, #T_90f92_row1_col2, #T_90f92_row1_col3, #T_90f92_row1_col5, #T_90f92_row1_col6, #T_90f92_row2_col0, #T_90f92_row2_col1, #T_90f92_row2_col2, #T_90f92_row2_col3, #T_90f92_row2_col4, #T_90f92_row2_col5, #T_90f92_row2_col6, #T_90f92_row2_col7, #T_90f92_row3_col0, #T_90f92_row3_col1, #T_90f92_row3_col2, #T_90f92_row3_col3, #T_90f92_row3_col4, #T_90f92_row3_col5, #T_90f92_row3_col6, #T_90f92_row3_col7, #T_90f92_row4_col0, #T_90f92_row4_col1, #T_90f92_row4_col3, #T_90f92_row4_col4, #T_90f92_row4_col6, #T_90f92_row4_col7, #T_90f92_row5_col0, #T_90f92_row5_col1, #T_90f92_row5_col2, #T_90f92_row5_col3, #T_90f92_row5_col4, #T_90f92_row5_col5, #T_90f92_row5_col6, #T_90f92_row5_col7, #T_90f92_row6_col0, #T_90f92_row6_col1, #T_90f92_row6_col2, #T_90f92_row6_col3, #T_90f92_row6_col4, #T_90f92_row6_col5, #T_90f92_row6_col6, #T_90f92_row6_col7, #T_90f92_row7_col0, #T_90f92_row7_col1, #T_90f92_row7_col2, #T_90f92_row7_col3, #T_90f92_row7_col4, #T_90f92_row7_col5, #T_90f92_row7_col6, #T_90f92_row7_col7, #T_90f92_row8_col0, #T_90f92_row8_col1, #T_90f92_row8_col2, #T_90f92_row8_col3, #T_90f92_row8_col4, #T_90f92_row8_col5, #T_90f92_row8_col6, #T_90f92_row8_col7, #T_90f92_row9_col0, #T_90f92_row9_col1, #T_90f92_row9_col2, #T_90f92_row9_col3, #T_90f92_row9_col4, #T_90f92_row9_col5, #T_90f92_row9_col6, #T_90f92_row9_col7, #T_90f92_row10_col0, #T_90f92_row10_col1, #T_90f92_row10_col2, #T_90f92_row10_col3, #T_90f92_row10_col4, #T_90f92_row10_col5, #T_90f92_row10_col6, #T_90f92_row10_col7, #T_90f92_row11_col0, #T_90f92_row11_col1, #T_90f92_row11_col2, #T_90f92_row11_col3, #T_90f92_row11_col4, #T_90f92_row11_col5, #T_90f92_row11_col6, #T_90f92_row11_col7, #T_90f92_row12_col0, #T_90f92_row12_col1, #T_90f92_row12_col2, #T_90f92_row12_col3, #T_90f92_row12_col4, #T_90f92_row12_col5, #T_90f92_row12_col6, #T_90f92_row12_col7, #T_90f92_row13_col0, #T_90f92_row13_col1, #T_90f92_row13_col2, #T_90f92_row13_col4, #T_90f92_row13_col5, #T_90f92_row13_col6, #T_90f92_row13_col7 {\n",
       "  text-align: left;\n",
       "}\n",
       "#T_90f92_row0_col1, #T_90f92_row0_col6, #T_90f92_row1_col1, #T_90f92_row1_col4, #T_90f92_row1_col7, #T_90f92_row4_col2, #T_90f92_row4_col5, #T_90f92_row13_col3 {\n",
       "  text-align: left;\n",
       "  background-color: yellow;\n",
       "}\n",
       "#T_90f92_row0_col8, #T_90f92_row1_col8, #T_90f92_row2_col8, #T_90f92_row3_col8, #T_90f92_row4_col8, #T_90f92_row5_col8, #T_90f92_row6_col8, #T_90f92_row7_col8, #T_90f92_row8_col8, #T_90f92_row9_col8, #T_90f92_row10_col8, #T_90f92_row12_col8, #T_90f92_row13_col8 {\n",
       "  text-align: left;\n",
       "  background-color: lightgrey;\n",
       "}\n",
       "#T_90f92_row11_col8 {\n",
       "  text-align: left;\n",
       "  background-color: yellow;\n",
       "  background-color: lightgrey;\n",
       "}\n",
       "</style>\n",
       "<table id=\"T_90f92\">\n",
       "  <thead>\n",
       "    <tr>\n",
       "      <th class=\"blank level0\" >&nbsp;</th>\n",
       "      <th id=\"T_90f92_level0_col0\" class=\"col_heading level0 col0\" >Model</th>\n",
       "      <th id=\"T_90f92_level0_col1\" class=\"col_heading level0 col1\" >Accuracy</th>\n",
       "      <th id=\"T_90f92_level0_col2\" class=\"col_heading level0 col2\" >AUC</th>\n",
       "      <th id=\"T_90f92_level0_col3\" class=\"col_heading level0 col3\" >Recall</th>\n",
       "      <th id=\"T_90f92_level0_col4\" class=\"col_heading level0 col4\" >Prec.</th>\n",
       "      <th id=\"T_90f92_level0_col5\" class=\"col_heading level0 col5\" >F1</th>\n",
       "      <th id=\"T_90f92_level0_col6\" class=\"col_heading level0 col6\" >Kappa</th>\n",
       "      <th id=\"T_90f92_level0_col7\" class=\"col_heading level0 col7\" >MCC</th>\n",
       "      <th id=\"T_90f92_level0_col8\" class=\"col_heading level0 col8\" >TT (Sec)</th>\n",
       "    </tr>\n",
       "  </thead>\n",
       "  <tbody>\n",
       "    <tr>\n",
       "      <th id=\"T_90f92_level0_row0\" class=\"row_heading level0 row0\" >lr</th>\n",
       "      <td id=\"T_90f92_row0_col0\" class=\"data row0 col0\" >Logistic Regression</td>\n",
       "      <td id=\"T_90f92_row0_col1\" class=\"data row0 col1\" >0.7690</td>\n",
       "      <td id=\"T_90f92_row0_col2\" class=\"data row0 col2\" >0.8050</td>\n",
       "      <td id=\"T_90f92_row0_col3\" class=\"data row0 col3\" >0.5576</td>\n",
       "      <td id=\"T_90f92_row0_col4\" class=\"data row0 col4\" >0.6929</td>\n",
       "      <td id=\"T_90f92_row0_col5\" class=\"data row0 col5\" >0.6132</td>\n",
       "      <td id=\"T_90f92_row0_col6\" class=\"data row0 col6\" >0.4531</td>\n",
       "      <td id=\"T_90f92_row0_col7\" class=\"data row0 col7\" >0.4609</td>\n",
       "      <td id=\"T_90f92_row0_col8\" class=\"data row0 col8\" >0.0410</td>\n",
       "    </tr>\n",
       "    <tr>\n",
       "      <th id=\"T_90f92_level0_row1\" class=\"row_heading level0 row1\" >rf</th>\n",
       "      <td id=\"T_90f92_row1_col0\" class=\"data row1 col0\" >Random Forest Classifier</td>\n",
       "      <td id=\"T_90f92_row1_col1\" class=\"data row1 col1\" >0.7690</td>\n",
       "      <td id=\"T_90f92_row1_col2\" class=\"data row1 col2\" >0.8174</td>\n",
       "      <td id=\"T_90f92_row1_col3\" class=\"data row1 col3\" >0.5360</td>\n",
       "      <td id=\"T_90f92_row1_col4\" class=\"data row1 col4\" >0.7121</td>\n",
       "      <td id=\"T_90f92_row1_col5\" class=\"data row1 col5\" >0.6011</td>\n",
       "      <td id=\"T_90f92_row1_col6\" class=\"data row1 col6\" >0.4462</td>\n",
       "      <td id=\"T_90f92_row1_col7\" class=\"data row1 col7\" >0.4616</td>\n",
       "      <td id=\"T_90f92_row1_col8\" class=\"data row1 col8\" >0.0550</td>\n",
       "    </tr>\n",
       "    <tr>\n",
       "      <th id=\"T_90f92_level0_row2\" class=\"row_heading level0 row2\" >ridge</th>\n",
       "      <td id=\"T_90f92_row2_col0\" class=\"data row2 col0\" >Ridge Classifier</td>\n",
       "      <td id=\"T_90f92_row2_col1\" class=\"data row2 col1\" >0.7541</td>\n",
       "      <td id=\"T_90f92_row2_col2\" class=\"data row2 col2\" >0.0000</td>\n",
       "      <td id=\"T_90f92_row2_col3\" class=\"data row2 col3\" >0.5076</td>\n",
       "      <td id=\"T_90f92_row2_col4\" class=\"data row2 col4\" >0.6814</td>\n",
       "      <td id=\"T_90f92_row2_col5\" class=\"data row2 col5\" >0.5744</td>\n",
       "      <td id=\"T_90f92_row2_col6\" class=\"data row2 col6\" >0.4091</td>\n",
       "      <td id=\"T_90f92_row2_col7\" class=\"data row2 col7\" >0.4216</td>\n",
       "      <td id=\"T_90f92_row2_col8\" class=\"data row2 col8\" >0.0040</td>\n",
       "    </tr>\n",
       "    <tr>\n",
       "      <th id=\"T_90f92_level0_row3\" class=\"row_heading level0 row3\" >lda</th>\n",
       "      <td id=\"T_90f92_row3_col0\" class=\"data row3 col0\" >Linear Discriminant Analysis</td>\n",
       "      <td id=\"T_90f92_row3_col1\" class=\"data row3 col1\" >0.7522</td>\n",
       "      <td id=\"T_90f92_row3_col2\" class=\"data row3 col2\" >0.8002</td>\n",
       "      <td id=\"T_90f92_row3_col3\" class=\"data row3 col3\" >0.5132</td>\n",
       "      <td id=\"T_90f92_row3_col4\" class=\"data row3 col4\" >0.6723</td>\n",
       "      <td id=\"T_90f92_row3_col5\" class=\"data row3 col5\" >0.5755</td>\n",
       "      <td id=\"T_90f92_row3_col6\" class=\"data row3 col6\" >0.4073</td>\n",
       "      <td id=\"T_90f92_row3_col7\" class=\"data row3 col7\" >0.4181</td>\n",
       "      <td id=\"T_90f92_row3_col8\" class=\"data row3 col8\" >0.0050</td>\n",
       "    </tr>\n",
       "    <tr>\n",
       "      <th id=\"T_90f92_level0_row4\" class=\"row_heading level0 row4\" >lightgbm</th>\n",
       "      <td id=\"T_90f92_row4_col0\" class=\"data row4 col0\" >Light Gradient Boosting Machine</td>\n",
       "      <td id=\"T_90f92_row4_col1\" class=\"data row4 col1\" >0.7504</td>\n",
       "      <td id=\"T_90f92_row4_col2\" class=\"data row4 col2\" >0.8220</td>\n",
       "      <td id=\"T_90f92_row4_col3\" class=\"data row4 col3\" >0.5959</td>\n",
       "      <td id=\"T_90f92_row4_col4\" class=\"data row4 col4\" >0.6477</td>\n",
       "      <td id=\"T_90f92_row4_col5\" class=\"data row4 col5\" >0.6134</td>\n",
       "      <td id=\"T_90f92_row4_col6\" class=\"data row4 col6\" >0.4310</td>\n",
       "      <td id=\"T_90f92_row4_col7\" class=\"data row4 col7\" >0.4372</td>\n",
       "      <td id=\"T_90f92_row4_col8\" class=\"data row4 col8\" >0.0110</td>\n",
       "    </tr>\n",
       "    <tr>\n",
       "      <th id=\"T_90f92_level0_row5\" class=\"row_heading level0 row5\" >gbc</th>\n",
       "      <td id=\"T_90f92_row5_col0\" class=\"data row5 col0\" >Gradient Boosting Classifier</td>\n",
       "      <td id=\"T_90f92_row5_col1\" class=\"data row5 col1\" >0.7411</td>\n",
       "      <td id=\"T_90f92_row5_col2\" class=\"data row5 col2\" >0.8131</td>\n",
       "      <td id=\"T_90f92_row5_col3\" class=\"data row5 col3\" >0.5526</td>\n",
       "      <td id=\"T_90f92_row5_col4\" class=\"data row5 col4\" >0.6281</td>\n",
       "      <td id=\"T_90f92_row5_col5\" class=\"data row5 col5\" >0.5828</td>\n",
       "      <td id=\"T_90f92_row5_col6\" class=\"data row5 col6\" >0.3981</td>\n",
       "      <td id=\"T_90f92_row5_col7\" class=\"data row5 col7\" >0.4032</td>\n",
       "      <td id=\"T_90f92_row5_col8\" class=\"data row5 col8\" >0.0270</td>\n",
       "    </tr>\n",
       "    <tr>\n",
       "      <th id=\"T_90f92_level0_row6\" class=\"row_heading level0 row6\" >et</th>\n",
       "      <td id=\"T_90f92_row6_col0\" class=\"data row6 col0\" >Extra Trees Classifier</td>\n",
       "      <td id=\"T_90f92_row6_col1\" class=\"data row6 col1\" >0.7337</td>\n",
       "      <td id=\"T_90f92_row6_col2\" class=\"data row6 col2\" >0.7863</td>\n",
       "      <td id=\"T_90f92_row6_col3\" class=\"data row6 col3\" >0.4316</td>\n",
       "      <td id=\"T_90f92_row6_col4\" class=\"data row6 col4\" >0.6563</td>\n",
       "      <td id=\"T_90f92_row6_col5\" class=\"data row6 col5\" >0.5131</td>\n",
       "      <td id=\"T_90f92_row6_col6\" class=\"data row6 col6\" >0.3446</td>\n",
       "      <td id=\"T_90f92_row6_col7\" class=\"data row6 col7\" >0.3621</td>\n",
       "      <td id=\"T_90f92_row6_col8\" class=\"data row6 col8\" >0.0600</td>\n",
       "    </tr>\n",
       "    <tr>\n",
       "      <th id=\"T_90f92_level0_row7\" class=\"row_heading level0 row7\" >knn</th>\n",
       "      <td id=\"T_90f92_row7_col0\" class=\"data row7 col0\" >K Neighbors Classifier</td>\n",
       "      <td id=\"T_90f92_row7_col1\" class=\"data row7 col1\" >0.7298</td>\n",
       "      <td id=\"T_90f92_row7_col2\" class=\"data row7 col2\" >0.7473</td>\n",
       "      <td id=\"T_90f92_row7_col3\" class=\"data row7 col3\" >0.5196</td>\n",
       "      <td id=\"T_90f92_row7_col4\" class=\"data row7 col4\" >0.6187</td>\n",
       "      <td id=\"T_90f92_row7_col5\" class=\"data row7 col5\" >0.5583</td>\n",
       "      <td id=\"T_90f92_row7_col6\" class=\"data row7 col6\" >0.3682</td>\n",
       "      <td id=\"T_90f92_row7_col7\" class=\"data row7 col7\" >0.3750</td>\n",
       "      <td id=\"T_90f92_row7_col8\" class=\"data row7 col8\" >0.0080</td>\n",
       "    </tr>\n",
       "    <tr>\n",
       "      <th id=\"T_90f92_level0_row8\" class=\"row_heading level0 row8\" >ada</th>\n",
       "      <td id=\"T_90f92_row8_col0\" class=\"data row8 col0\" >Ada Boost Classifier</td>\n",
       "      <td id=\"T_90f92_row8_col1\" class=\"data row8 col1\" >0.7262</td>\n",
       "      <td id=\"T_90f92_row8_col2\" class=\"data row8 col2\" >0.7820</td>\n",
       "      <td id=\"T_90f92_row8_col3\" class=\"data row8 col3\" >0.5251</td>\n",
       "      <td id=\"T_90f92_row8_col4\" class=\"data row8 col4\" >0.6145</td>\n",
       "      <td id=\"T_90f92_row8_col5\" class=\"data row8 col5\" >0.5559</td>\n",
       "      <td id=\"T_90f92_row8_col6\" class=\"data row8 col6\" >0.3626</td>\n",
       "      <td id=\"T_90f92_row8_col7\" class=\"data row8 col7\" >0.3720</td>\n",
       "      <td id=\"T_90f92_row8_col8\" class=\"data row8 col8\" >0.0230</td>\n",
       "    </tr>\n",
       "    <tr>\n",
       "      <th id=\"T_90f92_level0_row9\" class=\"row_heading level0 row9\" >dt</th>\n",
       "      <td id=\"T_90f92_row9_col0\" class=\"data row9 col0\" >Decision Tree Classifier</td>\n",
       "      <td id=\"T_90f92_row9_col1\" class=\"data row9 col1\" >0.6962</td>\n",
       "      <td id=\"T_90f92_row9_col2\" class=\"data row9 col2\" >0.6570</td>\n",
       "      <td id=\"T_90f92_row9_col3\" class=\"data row9 col3\" >0.5363</td>\n",
       "      <td id=\"T_90f92_row9_col4\" class=\"data row9 col4\" >0.5575</td>\n",
       "      <td id=\"T_90f92_row9_col5\" class=\"data row9 col5\" >0.5416</td>\n",
       "      <td id=\"T_90f92_row9_col6\" class=\"data row9 col6\" >0.3160</td>\n",
       "      <td id=\"T_90f92_row9_col7\" class=\"data row9 col7\" >0.3196</td>\n",
       "      <td id=\"T_90f92_row9_col8\" class=\"data row9 col8\" >0.0040</td>\n",
       "    </tr>\n",
       "    <tr>\n",
       "      <th id=\"T_90f92_level0_row10\" class=\"row_heading level0 row10\" >nb</th>\n",
       "      <td id=\"T_90f92_row10_col0\" class=\"data row10 col0\" >Naive Bayes</td>\n",
       "      <td id=\"T_90f92_row10_col1\" class=\"data row10 col1\" >0.6722</td>\n",
       "      <td id=\"T_90f92_row10_col2\" class=\"data row10 col2\" >0.7131</td>\n",
       "      <td id=\"T_90f92_row10_col3\" class=\"data row10 col3\" >0.2485</td>\n",
       "      <td id=\"T_90f92_row10_col4\" class=\"data row10 col4\" >0.5508</td>\n",
       "      <td id=\"T_90f92_row10_col5\" class=\"data row10 col5\" >0.3309</td>\n",
       "      <td id=\"T_90f92_row10_col6\" class=\"data row10 col6\" >0.1553</td>\n",
       "      <td id=\"T_90f92_row10_col7\" class=\"data row10 col7\" >0.1814</td>\n",
       "      <td id=\"T_90f92_row10_col8\" class=\"data row10 col8\" >0.0050</td>\n",
       "    </tr>\n",
       "    <tr>\n",
       "      <th id=\"T_90f92_level0_row11\" class=\"row_heading level0 row11\" >dummy</th>\n",
       "      <td id=\"T_90f92_row11_col0\" class=\"data row11 col0\" >Dummy Classifier</td>\n",
       "      <td id=\"T_90f92_row11_col1\" class=\"data row11 col1\" >0.6629</td>\n",
       "      <td id=\"T_90f92_row11_col2\" class=\"data row11 col2\" >0.5000</td>\n",
       "      <td id=\"T_90f92_row11_col3\" class=\"data row11 col3\" >0.0000</td>\n",
       "      <td id=\"T_90f92_row11_col4\" class=\"data row11 col4\" >0.0000</td>\n",
       "      <td id=\"T_90f92_row11_col5\" class=\"data row11 col5\" >0.0000</td>\n",
       "      <td id=\"T_90f92_row11_col6\" class=\"data row11 col6\" >0.0000</td>\n",
       "      <td id=\"T_90f92_row11_col7\" class=\"data row11 col7\" >0.0000</td>\n",
       "      <td id=\"T_90f92_row11_col8\" class=\"data row11 col8\" >0.0030</td>\n",
       "    </tr>\n",
       "    <tr>\n",
       "      <th id=\"T_90f92_level0_row12\" class=\"row_heading level0 row12\" >svm</th>\n",
       "      <td id=\"T_90f92_row12_col0\" class=\"data row12 col0\" >SVM - Linear Kernel</td>\n",
       "      <td id=\"T_90f92_row12_col1\" class=\"data row12 col1\" >0.5377</td>\n",
       "      <td id=\"T_90f92_row12_col2\" class=\"data row12 col2\" >0.0000</td>\n",
       "      <td id=\"T_90f92_row12_col3\" class=\"data row12 col3\" >0.5146</td>\n",
       "      <td id=\"T_90f92_row12_col4\" class=\"data row12 col4\" >0.3744</td>\n",
       "      <td id=\"T_90f92_row12_col5\" class=\"data row12 col5\" >0.3512</td>\n",
       "      <td id=\"T_90f92_row12_col6\" class=\"data row12 col6\" >0.0635</td>\n",
       "      <td id=\"T_90f92_row12_col7\" class=\"data row12 col7\" >0.0623</td>\n",
       "      <td id=\"T_90f92_row12_col8\" class=\"data row12 col8\" >0.0050</td>\n",
       "    </tr>\n",
       "    <tr>\n",
       "      <th id=\"T_90f92_level0_row13\" class=\"row_heading level0 row13\" >qda</th>\n",
       "      <td id=\"T_90f92_row13_col0\" class=\"data row13 col0\" >Quadratic Discriminant Analysis</td>\n",
       "      <td id=\"T_90f92_row13_col1\" class=\"data row13 col1\" >0.5361</td>\n",
       "      <td id=\"T_90f92_row13_col2\" class=\"data row13 col2\" >0.5789</td>\n",
       "      <td id=\"T_90f92_row13_col3\" class=\"data row13 col3\" >0.6117</td>\n",
       "      <td id=\"T_90f92_row13_col4\" class=\"data row13 col4\" >0.4497</td>\n",
       "      <td id=\"T_90f92_row13_col5\" class=\"data row13 col5\" >0.4341</td>\n",
       "      <td id=\"T_90f92_row13_col6\" class=\"data row13 col6\" >0.0990</td>\n",
       "      <td id=\"T_90f92_row13_col7\" class=\"data row13 col7\" >0.1237</td>\n",
       "      <td id=\"T_90f92_row13_col8\" class=\"data row13 col8\" >0.0040</td>\n",
       "    </tr>\n",
       "  </tbody>\n",
       "</table>\n"
      ],
      "text/plain": [
       "<pandas.io.formats.style.Styler at 0x2427231c2b0>"
      ]
     },
     "metadata": {},
     "output_type": "display_data"
    }
   ],
   "source": [
    "best = compare_models()"
   ]
  },
  {
   "cell_type": "code",
   "execution_count": null,
   "id": "d867bd92",
   "metadata": {
    "pycharm": {
     "name": "#%%\n"
    }
   },
   "outputs": [],
   "source": []
  }
 ],
 "metadata": {
  "kernelspec": {
   "display_name": "Python 3 (ipykernel)",
   "language": "python",
   "name": "python3"
  },
  "language_info": {
   "codemirror_mode": {
    "name": "ipython",
    "version": 3
   },
   "file_extension": ".py",
   "mimetype": "text/x-python",
   "name": "python",
   "nbconvert_exporter": "python",
   "pygments_lexer": "ipython3",
   "version": "3.8.13"
  }
 },
 "nbformat": 4,
 "nbformat_minor": 5
}
